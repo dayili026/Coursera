{
  "metadata": {
    "kernelspec": {
      "name": "python",
      "display_name": "Python (Pyodide)",
      "language": "python"
    },
    "language_info": {
      "codemirror_mode": {
        "name": "python",
        "version": 3
      },
      "file_extension": ".py",
      "mimetype": "text/x-python",
      "name": "python",
      "nbconvert_exporter": "python",
      "pygments_lexer": "ipython3",
      "version": "3.8"
    }
  },
  "nbformat_minor": 5,
  "nbformat": 4,
  "cells": [
    {
      "id": "23064389-d4b2-4813-bbdb-4ad145053e37",
      "cell_type": "markdown",
      "source": "<h1>Data Science Tools and Ecosystem</h1>\n",
      "metadata": {}
    },
    {
      "id": "e4ea4261-e2f0-4be8-b2c1-0ba58e523fbd",
      "cell_type": "markdown",
      "source": "In this notebook, Data Science Tools and Ecosystem are summarized.",
      "metadata": {}
    },
    {
      "id": "3b431689-c041-4b0d-b38a-616de74ff857",
      "cell_type": "markdown",
      "source": "<b>Objectives</b>\n- objective1\n- objective2\n- objective3",
      "metadata": {}
    },
    {
      "id": "c8a49dda-9401-4d98-949a-bdc9f69029ee",
      "cell_type": "markdown",
      "source": "Some of the popular languages that Data Scientists use are:\n1. language1\n2. language2\n3. language3",
      "metadata": {}
    },
    {
      "id": "53e73aca-17d4-41ca-8184-c5e12c47eec7",
      "cell_type": "markdown",
      "source": "Some of the commonly used libraries used by Data Scientists include:\n1. library1\n2. library2\n3. library3",
      "metadata": {}
    },
    {
      "id": "a62f9f8b-26e9-4f0b-b328-4d129b6c3524",
      "cell_type": "markdown",
      "source": "|Data Science Tools|\n|---|\n|tool1|\n|tool2|\n|tool3|",
      "metadata": {}
    },
    {
      "id": "cd1ce45d-b8f5-4cc6-bd1e-f96d88aa3182",
      "cell_type": "markdown",
      "source": "<h3>Below are a few examples of evaluating arithmetic expressions in Python</h3>",
      "metadata": {}
    },
    {
      "id": "1562ebc6-31f7-4dfa-a962-2154697cc724",
      "cell_type": "code",
      "source": "(3*4)+5 #This a simple arithmetic expression to mutiply then add integers",
      "metadata": {
        "trusted": true
      },
      "outputs": [
        {
          "execution_count": 11,
          "output_type": "execute_result",
          "data": {
            "text/plain": "17"
          },
          "metadata": {}
        }
      ],
      "execution_count": 11
    },
    {
      "id": "9c549f0e-523d-485d-833d-55f19a00208c",
      "cell_type": "code",
      "source": "200/60 #This will convert 200 minutes to hours by diving by 60",
      "metadata": {
        "trusted": true
      },
      "outputs": [
        {
          "execution_count": 12,
          "output_type": "execute_result",
          "data": {
            "text/plain": "3.3333333333333335"
          },
          "metadata": {}
        }
      ],
      "execution_count": 12
    },
    {
      "id": "ae2de7fd-506e-4c11-bf8b-f8d6330e773c",
      "cell_type": "markdown",
      "source": "<h2>Author</h2>\nDavid Li",
      "metadata": {}
    },
    {
      "id": "550ad10c-2e5c-402f-9fa2-584645f507e4",
      "cell_type": "code",
      "source": "",
      "metadata": {
        "trusted": true
      },
      "outputs": [],
      "execution_count": null
    }
  ]
}